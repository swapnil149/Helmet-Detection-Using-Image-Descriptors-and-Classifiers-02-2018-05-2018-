{
 "cells": [
  {
   "cell_type": "code",
   "execution_count": null,
   "metadata": {
    "collapsed": true
   },
   "outputs": [],
   "source": [
    "from moviepy.editor import VideoFileClip\n",
    "from IPython.display import HTML\n",
    "\n",
    "from scipy.misc import imread, imresize\n",
    "from sklearn.externals import joblib\n",
    "import numpy as np \n",
    "import cv2\n",
    "\n",
    "import matplotlib.pyplot as plt\n",
    "%matplotlib inline\n",
    "\n",
    "from helpers import convert, show_images, put_boxes, box_boundaries\n",
    "from featuresourcer import FeatureSourcer\n",
    "from binaryclassifier import BinaryClassifier\n",
    "from slider import Slider\n",
    "from heatmap import HeatMap "
   ]
  },
  {
   "cell_type": "code",
   "execution_count": null,
   "metadata": {
    "collapsed": true
   },
   "outputs": [],
   "source": [
    "def hot_to_rgb(data):\n",
    "  data_ = (data - np.min(data)) / (np.max(data) - np.min(data))\n",
    "  my_cmap = plt.cm.get_cmap('hot')\n",
    "  img = my_cmap(data_)\n",
    "  rgb_img = np.dstack((img[:, :, 0], img[:, :, 1], img[:, :, 2]))\n",
    "  return rgb_img"
   ]
  },
  {
   "cell_type": "code",
   "execution_count": null,
   "metadata": {
    "collapsed": true
   },
   "outputs": [],
   "source": [
    "svc = joblib.load('svc2.pkl')\n",
    "scaler = joblib.load('scaler2.pkl')\n",
    "\n",
    "sourcer_params = {\n",
    "  'color_model': 'yuv',                # hls, hsv, yuv, ycrcb\n",
    "  'bounding_box_size': 64,             #\n",
    "  'number_of_orientations': 11,        # 6 - 12\n",
    "  'pixels_per_cell': 16,               # 8, 16\n",
    "  'cells_per_block': 2,                # 1, 2\n",
    "  'do_transform_sqrt': True\n",
    "}\n",
    "\n",
    "cls = BinaryClassifier(svc, scaler)\n",
    "src = FeatureSourcer(sourcer_params, imread(\"vehicles/KITTI_extracted/5364.png\"))\n",
    "slider = Slider(sourcer = src, classifier = cls, increment = 8)"
   ]
  },
  {
   "cell_type": "code",
   "execution_count": null,
   "metadata": {
    "collapsed": true
   },
   "outputs": [],
   "source": [
    "def verbose_pipeline(this_frame):\n",
    "\n",
    "  for sz, pos in zip(ws, wp):\n",
    "    bounding_boxes = slider.locate(frame = this_frame, window_size = sz, window_position = pos)\n",
    "    heatmap.update(bounding_boxes)\n",
    "\n",
    "  mp, _, _ = heatmap.get()\n",
    "  labeled_img = heatmap.draw(this_frame)\n",
    "  \n",
    "  rgb_img = imresize(hot_to_rgb(mp), 0.25)\n",
    "                     \n",
    "  labeled_img[20:200, 20:340] = rgb_img\n",
    "  \n",
    "  return labeled_img"
   ]
  },
  {
   "cell_type": "code",
   "execution_count": null,
   "metadata": {
    "collapsed": false
   },
   "outputs": [],
   "source": [
    "ws = 80, 120, 150, 180\n",
    "wp = 410, 390, 380, 380\n",
    "\n",
    "temp_frame = imread(\"test1.jpg\")\n",
    "heatmap = HeatMap(frame = temp_frame, thresh = 25, memory = 40)\n",
    "\n",
    "project_output = 'test_video_output.mp4'\n",
    "clip1 = VideoFileClip(\"test_video.mp4\");\n",
    "white_clip = clip1.fl_image(verbose_pipeline) \n",
    "%time white_clip.write_videofile(project_output, audio = False)\n",
    "\n",
    "HTML(\"\"\"\n",
    "<video width=\"960\" height=\"540\" controls>\n",
    "  <source src=\"{0}\">\n",
    "</video>\n",
    "\"\"\".format(project_output))"
   ]
  },
  {
   "cell_type": "code",
   "execution_count": null,
   "metadata": {
    "collapsed": false
   },
   "outputs": [],
   "source": [
    "ws = 80, 120, 150\n",
    "wp = 410, 390, 380\n",
    "\n",
    "temp_frame = imread(\"test1.jpg\")\n",
    "heatmap = HeatMap(frame = temp_frame, thresh = 20, memory = 30)\n",
    "\n",
    "project_output = 'project_video_output.mp4'\n",
    "clip1 = VideoFileClip(\"project_video.mp4\");\n",
    "white_clip = clip1.fl_image(verbose_pipeline) \n",
    "%time white_clip.write_videofile(project_output, audio = False)\n",
    "\n",
    "HTML(\"\"\"\n",
    "<video width=\"960\" height=\"540\" controls>\n",
    "  <source src=\"{0}\">\n",
    "</video>\n",
    "\"\"\".format(project_output))"
   ]
  },
  {
   "cell_type": "code",
   "execution_count": null,
   "metadata": {
    "collapsed": true
   },
   "outputs": [],
   "source": []
  }
 ],
 "metadata": {
  "kernelspec": {
   "display_name": "Python 3",
   "language": "python",
   "name": "python3"
  },
  "language_info": {
   "codemirror_mode": {
    "name": "ipython",
    "version": 3
   },
   "file_extension": ".py",
   "mimetype": "text/x-python",
   "name": "python",
   "nbconvert_exporter": "python",
   "pygments_lexer": "ipython3",
   "version": "3.5.2"
  },
  "widgets": {
   "state": {},
   "version": "1.1.2"
  }
 },
 "nbformat": 4,
 "nbformat_minor": 2
}
